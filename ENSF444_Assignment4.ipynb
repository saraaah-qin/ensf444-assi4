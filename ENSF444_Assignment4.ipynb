{
 "cells": [
  {
   "cell_type": "markdown",
   "id": "92778525",
   "metadata": {
    "id": "92778525"
   },
   "source": [
    "<font size=\"+3\"><b>Assignment 4: Pipelines and Hyperparameter Tuning</b></font>\n",
    "\n",
    "***\n",
    "* **Full Name** = Sarah Qin     \n",
    "* **UCID** = 10156892\n",
    "***"
   ]
  },
  {
   "cell_type": "markdown",
   "id": "ce31b39a",
   "metadata": {
    "id": "ce31b39a"
   },
   "source": [
    "<font color='Blue'>\n",
    "In this assignment, you will be putting together everything you have learned so far. You will need to find your own dataset, do all the appropriate preprocessing, test different supervised learning models, and evaluate the results. More details for each step can be found below. You will also be asked to describe the process by which you came up with the code. More details can be found below. Please cite any websites or AI tools that you used to help you with this assignment.\n",
    "</font>"
   ]
  },
  {
   "cell_type": "markdown",
   "id": "T0uItvnoRoUB",
   "metadata": {
    "id": "T0uItvnoRoUB"
   },
   "source": [
    "<font color='Red'>\n",
    "For this assignment, in addition to your .ipynb file, please also attach a PDF file. To generate this PDF file, you can use the print function (located under the \"File\" within Jupyter Notebook). Name this file ENGG444_Assignment##__yourUCID.pdf (this name is similar to your main .ipynb file). We will evaluate your assignment based on the two files and you need to provide both.\n",
    "</font>\n",
    "\n",
    "\n",
    "|         **Question**         | **Point(s)** |\n",
    "|:----------------------------:|:------------:|\n",
    "|  **1. Preprocessing Tasks**  |              |\n",
    "|              1.1             |       2      |\n",
    "|              1.2             |       2      |\n",
    "|              1.3             |       4      |\n",
    "| **2. Pipeline and Modeling** |              |\n",
    "|              2.1             |       3      |\n",
    "|              2.2             |       6      |\n",
    "|              2.3             |       5      |\n",
    "|              2.4             |       3      |\n",
    "|     **3. Bonus Question**    |     **2**    |\n",
    "|           **Total**          |    **25**    |"
   ]
  },
  {
   "cell_type": "markdown",
   "id": "OpeMjIV9VLgM",
   "metadata": {
    "id": "OpeMjIV9VLgM"
   },
   "source": [
    "## **0. Dataset**\n",
    "\n",
    "This data is a subset of the **Heart Disease Dataset**, which contains information about patients with possible coronary artery disease. The data has **14 attributes** and **294 instances**. The attributes include demographic, clinical, and laboratory features, such as age, sex, chest pain type, blood pressure, cholesterol, and electrocardiogram results. The last attribute is the **diagnosis of heart disease**, which is a categorical variable with values from 0 (no presence) to 4 (high presence). The data can be used for **classification** tasks, such as predicting the presence or absence of heart disease based on the other attributes."
   ]
  },
  {
   "cell_type": "code",
   "execution_count": 2,
   "id": "YiaUdCQYVWj-",
   "metadata": {
    "ExecuteTime": {
     "end_time": "2024-03-11T17:56:09.344198Z",
     "start_time": "2024-03-11T17:56:09.154253Z"
    },
    "id": "YiaUdCQYVWj-"
   },
   "outputs": [
    {
     "data": {
      "text/html": [
       "<div>\n",
       "<style scoped>\n",
       "    .dataframe tbody tr th:only-of-type {\n",
       "        vertical-align: middle;\n",
       "    }\n",
       "\n",
       "    .dataframe tbody tr th {\n",
       "        vertical-align: top;\n",
       "    }\n",
       "\n",
       "    .dataframe thead th {\n",
       "        text-align: right;\n",
       "    }\n",
       "</style>\n",
       "<table border=\"1\" class=\"dataframe\">\n",
       "  <thead>\n",
       "    <tr style=\"text-align: right;\">\n",
       "      <th></th>\n",
       "      <th>age</th>\n",
       "      <th>sex</th>\n",
       "      <th>cp</th>\n",
       "      <th>trestbps</th>\n",
       "      <th>chol</th>\n",
       "      <th>fbs</th>\n",
       "      <th>restecg</th>\n",
       "      <th>thalach</th>\n",
       "      <th>exang</th>\n",
       "      <th>oldpeak</th>\n",
       "      <th>slope</th>\n",
       "      <th>ca</th>\n",
       "      <th>thal</th>\n",
       "      <th>num</th>\n",
       "    </tr>\n",
       "  </thead>\n",
       "  <tbody>\n",
       "    <tr>\n",
       "      <th>0</th>\n",
       "      <td>28</td>\n",
       "      <td>1</td>\n",
       "      <td>2</td>\n",
       "      <td>130.0</td>\n",
       "      <td>132.0</td>\n",
       "      <td>0.0</td>\n",
       "      <td>2.0</td>\n",
       "      <td>185.0</td>\n",
       "      <td>0.0</td>\n",
       "      <td>0.0</td>\n",
       "      <td>NaN</td>\n",
       "      <td>NaN</td>\n",
       "      <td>NaN</td>\n",
       "      <td>0</td>\n",
       "    </tr>\n",
       "    <tr>\n",
       "      <th>1</th>\n",
       "      <td>29</td>\n",
       "      <td>1</td>\n",
       "      <td>2</td>\n",
       "      <td>120.0</td>\n",
       "      <td>243.0</td>\n",
       "      <td>0.0</td>\n",
       "      <td>0.0</td>\n",
       "      <td>160.0</td>\n",
       "      <td>0.0</td>\n",
       "      <td>0.0</td>\n",
       "      <td>NaN</td>\n",
       "      <td>NaN</td>\n",
       "      <td>NaN</td>\n",
       "      <td>0</td>\n",
       "    </tr>\n",
       "    <tr>\n",
       "      <th>2</th>\n",
       "      <td>29</td>\n",
       "      <td>1</td>\n",
       "      <td>2</td>\n",
       "      <td>140.0</td>\n",
       "      <td>NaN</td>\n",
       "      <td>0.0</td>\n",
       "      <td>0.0</td>\n",
       "      <td>170.0</td>\n",
       "      <td>0.0</td>\n",
       "      <td>0.0</td>\n",
       "      <td>NaN</td>\n",
       "      <td>NaN</td>\n",
       "      <td>NaN</td>\n",
       "      <td>0</td>\n",
       "    </tr>\n",
       "    <tr>\n",
       "      <th>3</th>\n",
       "      <td>30</td>\n",
       "      <td>0</td>\n",
       "      <td>1</td>\n",
       "      <td>170.0</td>\n",
       "      <td>237.0</td>\n",
       "      <td>0.0</td>\n",
       "      <td>1.0</td>\n",
       "      <td>170.0</td>\n",
       "      <td>0.0</td>\n",
       "      <td>0.0</td>\n",
       "      <td>NaN</td>\n",
       "      <td>NaN</td>\n",
       "      <td>6.0</td>\n",
       "      <td>0</td>\n",
       "    </tr>\n",
       "    <tr>\n",
       "      <th>4</th>\n",
       "      <td>31</td>\n",
       "      <td>0</td>\n",
       "      <td>2</td>\n",
       "      <td>100.0</td>\n",
       "      <td>219.0</td>\n",
       "      <td>0.0</td>\n",
       "      <td>1.0</td>\n",
       "      <td>150.0</td>\n",
       "      <td>0.0</td>\n",
       "      <td>0.0</td>\n",
       "      <td>NaN</td>\n",
       "      <td>NaN</td>\n",
       "      <td>NaN</td>\n",
       "      <td>0</td>\n",
       "    </tr>\n",
       "    <tr>\n",
       "      <th>...</th>\n",
       "      <td>...</td>\n",
       "      <td>...</td>\n",
       "      <td>...</td>\n",
       "      <td>...</td>\n",
       "      <td>...</td>\n",
       "      <td>...</td>\n",
       "      <td>...</td>\n",
       "      <td>...</td>\n",
       "      <td>...</td>\n",
       "      <td>...</td>\n",
       "      <td>...</td>\n",
       "      <td>...</td>\n",
       "      <td>...</td>\n",
       "      <td>...</td>\n",
       "    </tr>\n",
       "    <tr>\n",
       "      <th>289</th>\n",
       "      <td>52</td>\n",
       "      <td>1</td>\n",
       "      <td>4</td>\n",
       "      <td>160.0</td>\n",
       "      <td>331.0</td>\n",
       "      <td>0.0</td>\n",
       "      <td>0.0</td>\n",
       "      <td>94.0</td>\n",
       "      <td>1.0</td>\n",
       "      <td>2.5</td>\n",
       "      <td>NaN</td>\n",
       "      <td>NaN</td>\n",
       "      <td>NaN</td>\n",
       "      <td>1</td>\n",
       "    </tr>\n",
       "    <tr>\n",
       "      <th>290</th>\n",
       "      <td>54</td>\n",
       "      <td>0</td>\n",
       "      <td>3</td>\n",
       "      <td>130.0</td>\n",
       "      <td>294.0</td>\n",
       "      <td>0.0</td>\n",
       "      <td>1.0</td>\n",
       "      <td>100.0</td>\n",
       "      <td>1.0</td>\n",
       "      <td>0.0</td>\n",
       "      <td>2.0</td>\n",
       "      <td>NaN</td>\n",
       "      <td>NaN</td>\n",
       "      <td>1</td>\n",
       "    </tr>\n",
       "    <tr>\n",
       "      <th>291</th>\n",
       "      <td>56</td>\n",
       "      <td>1</td>\n",
       "      <td>4</td>\n",
       "      <td>155.0</td>\n",
       "      <td>342.0</td>\n",
       "      <td>1.0</td>\n",
       "      <td>0.0</td>\n",
       "      <td>150.0</td>\n",
       "      <td>1.0</td>\n",
       "      <td>3.0</td>\n",
       "      <td>2.0</td>\n",
       "      <td>NaN</td>\n",
       "      <td>NaN</td>\n",
       "      <td>1</td>\n",
       "    </tr>\n",
       "    <tr>\n",
       "      <th>292</th>\n",
       "      <td>58</td>\n",
       "      <td>0</td>\n",
       "      <td>2</td>\n",
       "      <td>180.0</td>\n",
       "      <td>393.0</td>\n",
       "      <td>0.0</td>\n",
       "      <td>0.0</td>\n",
       "      <td>110.0</td>\n",
       "      <td>1.0</td>\n",
       "      <td>1.0</td>\n",
       "      <td>2.0</td>\n",
       "      <td>NaN</td>\n",
       "      <td>7.0</td>\n",
       "      <td>1</td>\n",
       "    </tr>\n",
       "    <tr>\n",
       "      <th>293</th>\n",
       "      <td>65</td>\n",
       "      <td>1</td>\n",
       "      <td>4</td>\n",
       "      <td>130.0</td>\n",
       "      <td>275.0</td>\n",
       "      <td>0.0</td>\n",
       "      <td>1.0</td>\n",
       "      <td>115.0</td>\n",
       "      <td>1.0</td>\n",
       "      <td>1.0</td>\n",
       "      <td>2.0</td>\n",
       "      <td>NaN</td>\n",
       "      <td>NaN</td>\n",
       "      <td>1</td>\n",
       "    </tr>\n",
       "  </tbody>\n",
       "</table>\n",
       "<p>294 rows × 14 columns</p>\n",
       "</div>"
      ],
      "text/plain": [
       "     age  sex  cp  trestbps   chol  fbs  restecg  thalach  exang  oldpeak  \\\n",
       "0     28    1   2     130.0  132.0  0.0      2.0    185.0    0.0      0.0   \n",
       "1     29    1   2     120.0  243.0  0.0      0.0    160.0    0.0      0.0   \n",
       "2     29    1   2     140.0    NaN  0.0      0.0    170.0    0.0      0.0   \n",
       "3     30    0   1     170.0  237.0  0.0      1.0    170.0    0.0      0.0   \n",
       "4     31    0   2     100.0  219.0  0.0      1.0    150.0    0.0      0.0   \n",
       "..   ...  ...  ..       ...    ...  ...      ...      ...    ...      ...   \n",
       "289   52    1   4     160.0  331.0  0.0      0.0     94.0    1.0      2.5   \n",
       "290   54    0   3     130.0  294.0  0.0      1.0    100.0    1.0      0.0   \n",
       "291   56    1   4     155.0  342.0  1.0      0.0    150.0    1.0      3.0   \n",
       "292   58    0   2     180.0  393.0  0.0      0.0    110.0    1.0      1.0   \n",
       "293   65    1   4     130.0  275.0  0.0      1.0    115.0    1.0      1.0   \n",
       "\n",
       "     slope  ca  thal  num  \n",
       "0      NaN NaN   NaN    0  \n",
       "1      NaN NaN   NaN    0  \n",
       "2      NaN NaN   NaN    0  \n",
       "3      NaN NaN   6.0    0  \n",
       "4      NaN NaN   NaN    0  \n",
       "..     ...  ..   ...  ...  \n",
       "289    NaN NaN   NaN    1  \n",
       "290    2.0 NaN   NaN    1  \n",
       "291    2.0 NaN   NaN    1  \n",
       "292    2.0 NaN   7.0    1  \n",
       "293    2.0 NaN   NaN    1  \n",
       "\n",
       "[294 rows x 14 columns]"
      ]
     },
     "metadata": {},
     "output_type": "display_data"
    }
   ],
   "source": [
    "import pandas as pd\n",
    "\n",
    "# Define the data source link\n",
    "_link = 'https://archive.ics.uci.edu/ml/machine-learning-databases/heart-disease/processed.hungarian.data'\n",
    "\n",
    "# Read the CSV file into a Pandas DataFrame, considering '?' as missing values\n",
    "df = pd.read_csv(_link, na_values='?',\n",
    "                 names=['age', 'sex', 'cp', 'trestbps', 'chol', 'fbs',\n",
    "                        'restecg', 'thalach', 'exang', 'oldpeak', 'slope',\n",
    "                        'ca', 'thal', 'num'])\n",
    "\n",
    "# Display the DataFrame\n",
    "display(df)"
   ]
  },
  {
   "cell_type": "markdown",
   "id": "mlcrJpGLWBOH",
   "metadata": {
    "id": "mlcrJpGLWBOH"
   },
   "source": [
    "# **1. Preprocessing Tasks**\n",
    "\n",
    "- **1.1** Find out which columns have more than 60% of their values missing and drop them from the data frame. Explain why this is a reasonable way to handle these columns. **(2 Points)**\n",
    "\n",
    "- **1.2** For the remaining columns that have some missing values, choose an appropriate imputation method to fill them in. You can use the `SimpleImputer` class from `sklearn.impute` or any other method you prefer. Explain why you chose this method and how it affects the data. **(2 Points)**\n",
    "\n",
    "- **1.3** Assign the `num` column to the variable `y` and the rest of the columns to the variable `X`. The `num` column indicates the presence or absence of heart disease based on the angiographic disease status of the patients. Create a `ColumnTransformer` object that applies different preprocessing steps to different subsets of features. Use `StandardScaler` for the numerical features, `OneHotEncoder` for the categorical features, and `passthrough` for the binary features. List the names of the features that belong to each group and explain why they need different transformations. You will use this `ColumnTransformer` in a pipeline in the next question. **(4 Points)**"
   ]
  },
  {
   "cell_type": "markdown",
   "id": "yyRJQ25hXHNF",
   "metadata": {
    "id": "yyRJQ25hXHNF"
   },
   "source": [
    "<font color='Green'><b>Answer:</b></font>\n",
    "\n",
    "- **1.1** - It is reasonable to drop them from the data frame because the majority of the values are missing from these columns. Since the majority of data are missing from these columns, they might not contain useful information, dropping them allows us to focus on features that contains more useful data. "
   ]
  },
  {
   "cell_type": "code",
   "execution_count": 24,
   "id": "NzUkBHBfYBzF",
   "metadata": {
    "ExecuteTime": {
     "end_time": "2024-03-11T17:56:09.348529Z",
     "start_time": "2024-03-11T17:56:09.342067Z"
    },
    "id": "NzUkBHBfYBzF"
   },
   "outputs": [],
   "source": [
    "# 1.1\n",
    "# Add necessary code here.\n",
    "\n",
    "for col in df.columns:\n",
    "    if (df[col].isna().sum()) / len(df) > 0.6:\n",
    "        df.drop(col, axis=1, inplace=True)\n",
    "\n"
   ]
  },
  {
   "cell_type": "markdown",
   "id": "xkk6IDQRXgJM",
   "metadata": {
    "id": "xkk6IDQRXgJM"
   },
   "source": [
    "<font color='Green'><b>Answer:</b></font>\n",
    "\n",
    "- **1.2** - I filled the remaining missing data with with the mean because this maintains the overall distribution. "
   ]
  },
  {
   "cell_type": "code",
   "execution_count": 26,
   "id": "t7Hw48YkZcCb",
   "metadata": {
    "ExecuteTime": {
     "end_time": "2024-03-11T17:56:09.352032Z",
     "start_time": "2024-03-11T17:56:09.347534Z"
    },
    "id": "t7Hw48YkZcCb"
   },
   "outputs": [],
   "source": [
    "# 1.2\n",
    "from sklearn.impute import SimpleImputer\n",
    "\n",
    "imputer = SimpleImputer(strategy='mean')\n",
    "df = pd.DataFrame(imputer.fit_transform(df), columns=df.columns)\n",
    "\n",
    "df.isna().sum()\n",
    "\n",
    "df = df[df['restecg'] != 0.21843003412969283]"
   ]
  },
  {
   "cell_type": "markdown",
   "id": "TS8GSVmmXoOg",
   "metadata": {
    "id": "TS8GSVmmXoOg"
   },
   "source": [
    "<font color='Green'><b>Answer:</b></font>\n",
    "\n",
    "- **1.3** \n",
    "    - Numerical - Age, trestbps, chol, thalach, oldpeak\n",
    "    - Catgorical - cp, restecg\n",
    "    - Binary - sex, fbs, exang\n",
    "They need different transformation because they represent different types of data. Numerical values have meanings where categorical and binary values are just a number assigned to the category, thus they need to be processed differently. Categorical and binary need to be processed differently because categorical has more than 2 categories and binary contains only 2 categories. Different transformations of data makes it easier for some algorithms to handle."
   ]
  },
  {
   "cell_type": "code",
   "execution_count": 5,
   "id": "pCxLaTmQXYC7",
   "metadata": {
    "ExecuteTime": {
     "end_time": "2024-03-11T17:56:09.379927Z",
     "start_time": "2024-03-11T17:56:09.355358Z"
    },
    "id": "pCxLaTmQXYC7"
   },
   "outputs": [],
   "source": [
    "# 1.3\n",
    "y = df['num']\n",
    "X = df.drop('num', axis=1)\n",
    "\n",
    "from sklearn.compose import ColumnTransformer\n",
    "from sklearn.preprocessing import StandardScaler, OneHotEncoder\n",
    "\n",
    "scaler = StandardScaler()\n",
    "ohe = OneHotEncoder(sparse_output=False)\n",
    "\n",
    "preprocessor = ColumnTransformer(\n",
    "    transformers=[\n",
    "        ('numerical', scaler, ['age', 'trestbps', 'chol', 'thalach', 'oldpeak']),\n",
    "        ('categorial', ohe, ['cp',  'restecg']),\n",
    "        ('binary', 'passthrough', ['sex', 'fbs', 'exang'])\n",
    "    ],\n",
    "    \n",
    ")"
   ]
  },
  {
   "cell_type": "markdown",
   "id": "2a245d00",
   "metadata": {
    "id": "2a245d00"
   },
   "source": [
    "# **2. Pipeline and Modeling**\n",
    "\n",
    "- **2.1** Create **three** `Pipeline` objects that take the column transformer from the previous question as the first step and add one or more models as the subsequent steps. You can use any models from `sklearn` or other libraries that are suitable for binary classification. For each pipeline, explain **why** you selected the model(s) and what are their **strengths and weaknesses** for this data set. **(3 Points)**\n",
    "\n",
    "- **2.2** Use `GridSearchCV` to perform a grid search over the hyperparameters of each pipeline and find the best combination that maximizes the cross-validation score. Report the best parameters and the best score for each pipeline. Then, update the hyperparameters of each pipeline using the best parameters from the grid search. **(6 Points)**\n",
    "\n",
    "- **2.3** Form a stacking classifier that uses the three pipelines from the previous question as the base estimators and a meta-model as the `final_estimator`. You can choose any model for the meta-model that is suitable for binary classification. Explain **why** you chose the meta-model and how it combines the predictions of the base estimators. Then, use `StratifiedKFold` to perform a cross-validation on the stacking classifier and present the accuracy scores and F1 scores for each fold. Report the mean and the standard deviation of each score in the format of `mean ± std`. For example, `0.85 ± 0.05`. Interpret the results and compare them with the baseline scores from the previous assignment. **(5 Points)**\n",
    "\n",
    "- **2.4**: Interpret the final results of the stacking classifier and compare its performance with the individual models. Explain how stacking classifier has improved or deteriorated the prediction accuracy and F1 score, and what are the possible reasons for that. **(3 Points)**"
   ]
  },
  {
   "cell_type": "markdown",
   "id": "GSpSIu-BY1Kn",
   "metadata": {
    "id": "GSpSIu-BY1Kn"
   },
   "source": [
    "<font color='Green'><b>Answer:</b></font>\n",
    "\n",
    "- **2.1** \n",
    "    - I chose logistic regression, random forest classifier, and SVC because these models can be used for classification.\n",
    "    - "
   ]
  },
  {
   "cell_type": "code",
   "execution_count": 6,
   "id": "qYMtXgFtOBMT",
   "metadata": {
    "ExecuteTime": {
     "end_time": "2024-03-11T17:56:09.390575Z",
     "start_time": "2024-03-11T17:56:09.364351Z"
    },
    "id": "qYMtXgFtOBMT"
   },
   "outputs": [],
   "source": [
    "# 2.1\n",
    "# Add necessary code here.\n",
    "from sklearn.linear_model import LogisticRegression\n",
    "from sklearn.ensemble import RandomForestClassifier\n",
    "from sklearn.svm import SVC\n",
    "\n",
    "from sklearn.pipeline import make_pipeline\n",
    "\n",
    "pipe_lr = make_pipeline(preprocessor, LogisticRegression(max_iter=2000)) \n",
    "pipe_rf = make_pipeline(preprocessor, RandomForestClassifier())\n",
    "pipe_svm = make_pipeline(preprocessor, SVC())\n",
    "\n"
   ]
  },
  {
   "cell_type": "markdown",
   "id": "NPSo4pBVe1GR",
   "metadata": {
    "id": "NPSo4pBVe1GR"
   },
   "source": [
    "<font color='Green'><b>Answer:</b></font>\n",
    "\n",
    "- **2.2** The best parameters for logistic regression is with C=100, and solver=liblinear. The best accuracy score for logistic regression is 0.85 and the best F1 scores is 0.78. The best parameters for random forest is with max_depth=3 and n_estimators=100. The best accuracy score for random forest is 0.86 and the best F1 scores is 0.79. The best parameters for SVC is with C=10, kernel=linear. The best accuracy score for SVC is 0.87 and the best F1 scores is 0.80. "
   ]
  },
  {
   "cell_type": "code",
   "execution_count": 7,
   "id": "sNXYl9WFe3vA",
   "metadata": {
    "ExecuteTime": {
     "end_time": "2024-03-11T19:02:07.722856Z",
     "start_time": "2024-03-11T19:02:07.133397Z"
    },
    "id": "sNXYl9WFe3vA"
   },
   "outputs": [
    {
     "name": "stdout",
     "output_type": "stream",
     "text": [
      "Model:  lr\n",
      "Best params:  {'logisticregression__C': 100, 'logisticregression__solver': 'liblinear'}\n",
      "Best accuracy scores: 0.8461609620721553\n",
      "Best F1 scores: 0.7755416549239751\n",
      "Model:  rf\n",
      "Best params:  {'randomforestclassifier__max_depth': 3, 'randomforestclassifier__n_estimators': 100}\n",
      "Best accuracy scores: 0.8591119333950046\n",
      "Best F1 scores: 0.7852128427128428\n",
      "Model:  svm\n",
      "Best params:  {'svc__C': 10, 'svc__kernel': 'linear'}\n",
      "Best accuracy scores: 0.8716928769657724\n",
      "Best F1 scores: 0.7984139784946237\n"
     ]
    }
   ],
   "source": [
    "# 2.2\n",
    "# Add necessary code here.\n",
    "from sklearn.model_selection import train_test_split, GridSearchCV\n",
    "from sklearn.metrics import f1_score, make_scorer, accuracy_score\n",
    "X_train, X_test, y_train, y_test = train_test_split(X, y, test_size=0.2, random_state=0, stratify=y)\n",
    "\n",
    "param_grid_lr = {\n",
    "    'logisticregression__C': [0.001, 0.01, 0.1, 1, 10, 100],\n",
    "    'logisticregression__solver': ['liblinear', 'saga']\n",
    "}\n",
    "\n",
    "param_grid_rf = {\n",
    "    'randomforestclassifier__max_depth': [1, 3, 5, 10],\n",
    "    'randomforestclassifier__n_estimators': [10, 50, 100]  \n",
    "}\n",
    "\n",
    "param_grid_svm = {\n",
    "    'svc__C': [0.001, 0.01, 0.1, 1, 10, 100],\n",
    "    'svc__kernel': ['linear', 'rbf', 'poly', 'sigmoid']\n",
    "}\n",
    "\n",
    "param_grids = {'lr': param_grid_lr, 'rf': param_grid_rf, 'svm': param_grid_svm}\n",
    "\n",
    "pipelines = {'lr':pipe_lr, 'rf': pipe_rf,  'svm': pipe_svm} \n",
    "\n",
    "scoring = {\n",
    "    'accuracy': make_scorer(accuracy_score),         # Scoring based on accuracy_score\n",
    "    'f1_score': make_scorer(f1_score)                # Scoring based on F1_score\n",
    "}\n",
    "\n",
    "for model_name, param_grid in param_grids.items():\n",
    "    grid_search = GridSearchCV(pipelines[model_name], param_grid, cv=5, scoring=scoring,refit='f1_score', n_jobs=-1)\n",
    "    grid_search.fit(X_train, y_train)\n",
    "    best_param = grid_search.best_params_\n",
    "    best_score = grid_search.cv_results_\n",
    "    print('Model: ', model_name)\n",
    "    print('Best params: ', best_param)\n",
    "    print(\"Best accuracy scores:\", max(best_score['mean_test_accuracy'])) \n",
    "    print(\"Best F1 scores:\", max(best_score['mean_test_f1_score']) )  \n"
   ]
  },
  {
   "cell_type": "markdown",
   "id": "ygOeNB-PamnU",
   "metadata": {
    "id": "ygOeNB-PamnU"
   },
   "source": [
    "<font color='Green'><b>Answer:</b></font>\n",
    "\n",
    "- **2.3** - I chose SVC as the meta-model because it performed the best in 2.2. It evaluates the strengths of each base model and weighs their predictions with the meta model, then combines them together. The mean accuracy is 0.83 ± 0.08 and the mean F1 score: 0.74 ± 0.12. Compared to the baseline scores of the last assignment, "
   ]
  },
  {
   "cell_type": "code",
   "execution_count": 18,
   "id": "UvhsbjmYP2G_",
   "metadata": {
    "ExecuteTime": {
     "end_time": "2024-03-11T17:56:09.929127Z",
     "start_time": "2024-03-11T17:56:09.926024Z"
    },
    "id": "UvhsbjmYP2G_"
   },
   "outputs": [
    {
     "name": "stdout",
     "output_type": "stream",
     "text": [
      "        accuracy  f1_score\n",
      "Fold 1  0.830508  0.750000\n",
      "Fold 2  0.830508  0.736842\n",
      "Fold 3  0.711864  0.564103\n",
      "Fold 4  0.827586  0.772727\n",
      "Fold 5  0.931034  0.900000\n",
      "Mean accuracy: 0.83 ± 0.08\n",
      "Mean F1 score: 0.74 ± 0.12\n"
     ]
    }
   ],
   "source": [
    "# 2.3\n",
    "# Add necessary code here.\n",
    "\n",
    "pipe_lr = make_pipeline(preprocessor, LogisticRegression(C=100, solver='liblinear', max_iter=2000))\n",
    "pipe_rf = make_pipeline(preprocessor, RandomForestClassifier(max_depth=3, n_estimators=100))\n",
    "pipe_svm = make_pipeline(preprocessor, SVC(C=10, kernel='linear'))\n",
    "\n",
    "from sklearn.ensemble import StackingClassifier\n",
    "from sklearn.model_selection import StratifiedKFold\n",
    "import numpy as np\n",
    "from sklearn.metrics import accuracy_score, f1_score\n",
    "\n",
    "estimators = [('lr', pipe_lr), ('rf', pipe_rf), ('svm', pipe_svm)]\n",
    "\n",
    "stacking = StackingClassifier(estimators=estimators, final_estimator=SVC(C=10, kernel='linear'))\n",
    "\n",
    "skf = StratifiedKFold(n_splits=5, shuffle=True, random_state=42)\n",
    "\n",
    "\n",
    "results = {'accuracy':[], 'f1_score': []}\n",
    "\n",
    "\n",
    "for train_index, test_index in skf.split(X, y):\n",
    "    X_train, X_test = X.iloc[train_index], X.iloc[test_index]\n",
    "    y_train, y_test = y.iloc[train_index], y.iloc[test_index]\n",
    "\n",
    "    stacking.fit(X_train, y_train)\n",
    "    y_pred = stacking.predict(X_test)\n",
    "    results['accuracy'].append(accuracy_score(y_test, y_pred))\n",
    "    results['f1_score'].append(f1_score(y_test, y_pred))\n",
    "\n",
    "index = ['Fold 1', 'Fold 2', 'Fold 3', 'Fold 4', 'Fold 5']\n",
    "\n",
    "results = pd.DataFrame(results, index=index)\n",
    "\n",
    "print(results)\n",
    "print(f'Mean accuracy: {results['accuracy'].mean():.2f} ± {results['accuracy'].std():.2f}')\n",
    "print(f'Mean F1 score: {results['f1_score'].mean():.2f} ± {results['f1_score'].std():.2f}')\n",
    "    \n",
    "    "
   ]
  },
  {
   "cell_type": "markdown",
   "id": "A-TN9hr3b77-",
   "metadata": {
    "id": "A-TN9hr3b77-"
   },
   "source": [
    "<font color='Green'><b>Answer:</b></font>\n",
    "- **2.4** - The stacking classifier performed well overall, with an accuracy score of 0.93 and f1_score of 0.9 on the last fold. Compared to the individual models, stacking performed better than all the individual models(compared to accuracy score of 0.85, 0.86, 0.87, and F1 score of 0.78, 0.79, 0.80). Stacking classifier imporved the scores becuase it takes the strength of each model and weighs their predictions to form a generalization on the predictions. "
   ]
  },
  {
   "cell_type": "markdown",
   "id": "RPa-v8Xxc7aU",
   "metadata": {
    "id": "RPa-v8Xxc7aU"
   },
   "source": [
    "**Bonus Question**: The stacking classifier has achieved a high accuracy and F1 score, but there may be still room for improvement. Suggest **two** possible ways to improve the modeling using the stacking classifier, and explain **how** and **why** they could improve the performance. **(2 points)**"
   ]
  },
  {
   "cell_type": "markdown",
   "id": "IrSooo0DfC-V",
   "metadata": {
    "id": "IrSooo0DfC-V"
   },
   "source": [
    "<font color='Green'><b>Answer:</b></font>"
   ]
  },
  {
   "cell_type": "markdown",
   "id": "f12bd8a4",
   "metadata": {},
   "source": [
    "- Tuning of the hyperparameters of the base and meta-models because stacking uses the base and metal-models to form its prediction.\n",
    "- Add more diverse base models becuase this will allow the stacking clasiifier to generalize better with more models to learn from. "
   ]
  }
 ],
 "metadata": {
  "colab": {
   "provenance": []
  },
  "kernelspec": {
   "display_name": "Python 3 (ipykernel)",
   "language": "python",
   "name": "python3"
  },
  "language_info": {
   "codemirror_mode": {
    "name": "ipython",
    "version": 3
   },
   "file_extension": ".py",
   "mimetype": "text/x-python",
   "name": "python",
   "nbconvert_exporter": "python",
   "pygments_lexer": "ipython3",
   "version": "3.12.0"
  }
 },
 "nbformat": 4,
 "nbformat_minor": 5
}
